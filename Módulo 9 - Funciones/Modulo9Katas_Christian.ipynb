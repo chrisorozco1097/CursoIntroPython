{
 "cells": [
  {
   "cell_type": "markdown",
   "metadata": {},
   "source": [
    "# Ejercicio: Uso de funciones en python"
   ]
  },
  {
   "cell_type": "code",
   "execution_count": 11,
   "metadata": {},
   "outputs": [],
   "source": [
    "# Funcion 3 tanques y muestre el promedio\n",
    "def informe(tanque1,tanque2,tanque3):\n",
    "    avg=(tanque1+tanque2+tanque3)/3\n",
    "    return f\"\"\"Informe de combustible:\n",
    "    Tanque 1: {tanque1}%\n",
    "    Tanque 2: {tanque2}%\n",
    "    Tanque 3: {tanque3}% \n",
    "    Promedio: {avg}%\n",
    "    \"\"\""
   ]
  },
  {
   "cell_type": "code",
   "execution_count": 12,
   "metadata": {},
   "outputs": [
    {
     "name": "stdout",
     "output_type": "stream",
     "text": [
      "Informe de combustible:\n",
      "    Tanque 1: 3%\n",
      "    Tanque 2: 4%\n",
      "    Tanque 3: 5% \n",
      "    Promedio: 4.0%\n",
      "    \n"
     ]
    }
   ],
   "source": [
    "print(informe(3,4,5))"
   ]
  },
  {
   "cell_type": "code",
   "execution_count": 14,
   "metadata": {},
   "outputs": [],
   "source": [
    "def avg(fuel):\n",
    "    return sum(fuel)/len(fuel)"
   ]
  },
  {
   "cell_type": "code",
   "execution_count": 17,
   "metadata": {},
   "outputs": [],
   "source": [
    "def informe(tanque1,tanque2,tanque3):\n",
    "    return f\"\"\"Informe de combustible:\n",
    "    Tanque 1: {tanque1}%\n",
    "    Tanque 2: {tanque2}%\n",
    "    Tanque 3: {tanque3}% \n",
    "    Promedio: {avg([tanque1,tanque2,tanque3])}%\n",
    "    \"\"\""
   ]
  },
  {
   "cell_type": "code",
   "execution_count": 18,
   "metadata": {},
   "outputs": [
    {
     "name": "stdout",
     "output_type": "stream",
     "text": [
      "Informe de combustible:\n",
      "    Tanque 1: 3%\n",
      "    Tanque 2: 4%\n",
      "    Tanque 3: 5% \n",
      "    Promedio: 4.0%\n",
      "    \n"
     ]
    }
   ],
   "source": [
    "print(informe(3,4,5))"
   ]
  },
  {
   "cell_type": "markdown",
   "metadata": {},
   "source": [
    "# Ejercicio 2: Trabajo con argumentos de palabra clave"
   ]
  },
  {
   "cell_type": "code",
   "execution_count": 21,
   "metadata": {},
   "outputs": [],
   "source": [
    "# Informe de la mision\n",
    "def informe_prec(pre_time,fly_time,destin,ext_tank,int_tank):\n",
    "    return f\"\"\"Informe de mision:\n",
    "    Destino: {destin}\n",
    "    Tiempo de viaje: {fly_time + pre_time} minutos\n",
    "    Combustible: {ext_tank + int_tank} galones\n",
    "    \"\"\""
   ]
  },
  {
   "cell_type": "code",
   "execution_count": 26,
   "metadata": {},
   "outputs": [],
   "source": [
    "#Actualizar\n",
    "def informe_compl(destin, *time, **tanks):\n",
    "    return f\"\"\"\n",
    "    Destino: {destin}\n",
    "    Tiempo de viaje: {sum(time)} minutos\n",
    "    Combustible: {sum(tanks.values())}\n",
    "    \"\"\""
   ]
  },
  {
   "cell_type": "code",
   "execution_count": 27,
   "metadata": {},
   "outputs": [
    {
     "name": "stdout",
     "output_type": "stream",
     "text": [
      "\n",
      "    Destino: Moon\n",
      "    Tiempo de viaje: 112 minutos\n",
      "    Combustible: 3000\n",
      "    \n"
     ]
    }
   ],
   "source": [
    "print(informe_compl(\"Moon\", 10,15,51,23,13,main=3000))"
   ]
  },
  {
   "cell_type": "code",
   "execution_count": 31,
   "metadata": {},
   "outputs": [],
   "source": [
    "def informe_compl(destin, *time, **tanks):\n",
    "    reporte = f\"\"\"\n",
    "    Destino: {destin}\n",
    "    Tiempo de viaje: {sum(time)} minutos\n",
    "    Combustible: {sum(tanks.values())}\n",
    "    \"\"\"\n",
    "    for tank, galon in tanks.items():\n",
    "        reporte += f\"{tank} tank: {galon} gallons left\\n\"\n",
    "    return reporte"
   ]
  },
  {
   "cell_type": "code",
   "execution_count": 33,
   "metadata": {},
   "outputs": [
    {
     "name": "stdout",
     "output_type": "stream",
     "text": [
      "\n",
      "    Destino: Moon\n",
      "    Tiempo de viaje: 112 minutos\n",
      "    Combustible: 26444\n",
      "    main tank: 3000 gallons left\n",
      "int tank: 23444 gallons left\n",
      "\n"
     ]
    }
   ],
   "source": [
    "print(informe_compl(\"Moon\", 10,15,51,23,13,main=3000, int=23444))"
   ]
  },
  {
   "cell_type": "code",
   "execution_count": null,
   "metadata": {},
   "outputs": [],
   "source": []
  }
 ],
 "metadata": {
  "interpreter": {
   "hash": "aee8b7b246df8f9039afb4144a1f6fd8d2ca17a180786b69acc140d282b71a49"
  },
  "kernelspec": {
   "display_name": "Python 3.9.0 64-bit",
   "language": "python",
   "name": "python3"
  },
  "language_info": {
   "codemirror_mode": {
    "name": "ipython",
    "version": 3
   },
   "file_extension": ".py",
   "mimetype": "text/x-python",
   "name": "python",
   "nbconvert_exporter": "python",
   "pygments_lexer": "ipython3",
   "version": "3.9.0"
  },
  "orig_nbformat": 4
 },
 "nbformat": 4,
 "nbformat_minor": 2
}
