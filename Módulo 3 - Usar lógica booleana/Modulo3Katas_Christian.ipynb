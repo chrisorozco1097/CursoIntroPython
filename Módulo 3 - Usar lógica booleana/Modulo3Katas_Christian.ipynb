{
 "cells": [
  {
   "cell_type": "markdown",
   "metadata": {},
   "source": [
    "# Ejecricio - Escribir declaraciones if, else, y elif"
   ]
  },
  {
   "cell_type": "code",
   "execution_count": 5,
   "metadata": {},
   "outputs": [
    {
     "name": "stdout",
     "output_type": "stream",
     "text": [
      "ADVERTENCIA \n",
      " Asteroide cerca\n"
     ]
    }
   ],
   "source": [
    "vel_asteroide = 49 #km/s\n",
    "if vel_asteroide > 25:\n",
    "    print(\"ADVERTENCIA \\n Asteroide cerca\")\n",
    "else:\n",
    "    print(\"Ningún asteroide está cerca\")"
   ]
  },
  {
   "cell_type": "code",
   "execution_count": 7,
   "metadata": {},
   "outputs": [
    {
     "name": "stdout",
     "output_type": "stream",
     "text": [
      "Ningún asteroide es visible\n"
     ]
    }
   ],
   "source": [
    "vel_asteroide2 = 19 #km/s\n",
    "if vel_asteroide2 >= 20:\n",
    "    print(\"Buscar asteroide en el cielo\")\n",
    "else:\n",
    "    print(\"Ningún asteroide es visible\")"
   ]
  },
  {
   "cell_type": "markdown",
   "metadata": {},
   "source": [
    "# Ejecricio - Uso de operadores and y or"
   ]
  },
  {
   "cell_type": "code",
   "execution_count": 12,
   "metadata": {},
   "outputs": [
    {
     "name": "stdout",
     "output_type": "stream",
     "text": [
      "Buscar asteroide en el cielo\n"
     ]
    }
   ],
   "source": [
    "vel_asteroide3 = 22\n",
    "tam_asteroide3 = 40\n",
    "\n",
    "if tam_asteroide3 < 25:\n",
    "    print(\"No hay peligro\")\n",
    "elif vel_asteroide3 > 25 and tam_asteroide3 > 25:\n",
    "    print(\"ADVERTENCIA \\n Asteroide puede causar mucho daño!\")\n",
    "elif vel_asteroide3 >= 20:\n",
    "    print(\"Buscar asteroide en el cielo\")\n",
    "elif vel_asteroide3 > 25:\n",
    "    print(\"ADVERTENCIA \\n Asteroide cerca\")\n",
    "else:\n",
    "    print(\"No hay peligro\")    "
   ]
  }
 ],
 "metadata": {
  "interpreter": {
   "hash": "aee8b7b246df8f9039afb4144a1f6fd8d2ca17a180786b69acc140d282b71a49"
  },
  "kernelspec": {
   "display_name": "Python 3.9.0 64-bit",
   "language": "python",
   "name": "python3"
  },
  "language_info": {
   "codemirror_mode": {
    "name": "ipython",
    "version": 3
   },
   "file_extension": ".py",
   "mimetype": "text/x-python",
   "name": "python",
   "nbconvert_exporter": "python",
   "pygments_lexer": "ipython3",
   "version": "3.9.0"
  },
  "orig_nbformat": 4
 },
 "nbformat": 4,
 "nbformat_minor": 2
}
